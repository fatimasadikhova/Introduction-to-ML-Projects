{
 "cells": [
  {
   "cell_type": "code",
   "execution_count": 10,
   "id": "9664c4fe-a753-4c04-a480-ad8c1f2003fc",
   "metadata": {},
   "outputs": [
    {
     "name": "stdout",
     "output_type": "stream",
     "text": [
      "       Unnamed: 0                                                App  \\\n",
      "0               0     Photo Editor & Candy Camera & Grid & ScrapBook   \n",
      "1               1                                Coloring book moana   \n",
      "2               2  U Launcher Lite – FREE Live Cool Themes, Hide ...   \n",
      "3               3                              Sketch - Draw & Paint   \n",
      "4               4              Pixel Draw - Number Art Coloring Book   \n",
      "...           ...                                                ...   \n",
      "10835       10835                                   Sya9a Maroc - FR   \n",
      "10836       10836                   Fr. Mike Schmitz Audio Teachings   \n",
      "10837       10837                             Parkinson Exercices FR   \n",
      "10838       10838                      The SCP Foundation DB fr nn5n   \n",
      "10839       10839      iHoroscope - 2018 Daily Horoscope & Astrology   \n",
      "\n",
      "                  Category  Rating  Reviews                Size     Installs  \\\n",
      "0           ART_AND_DESIGN     4.1      159                 19M      10,000+   \n",
      "1           ART_AND_DESIGN     3.9      967                 14M     500,000+   \n",
      "2           ART_AND_DESIGN     4.7    87510                8.7M   5,000,000+   \n",
      "3           ART_AND_DESIGN     4.5   215644                 25M  50,000,000+   \n",
      "4           ART_AND_DESIGN     4.3      967                2.8M     100,000+   \n",
      "...                    ...     ...      ...                 ...          ...   \n",
      "10835               FAMILY     4.5       38                 53M       5,000+   \n",
      "10836               FAMILY     5.0        4                3.6M         100+   \n",
      "10837              MEDICAL     NaN        3                9.5M       1,000+   \n",
      "10838  BOOKS_AND_REFERENCE     4.5      114  Varies with device       1,000+   \n",
      "10839            LIFESTYLE     4.5   398307                 19M  10,000,000+   \n",
      "\n",
      "       Type Price Content Rating                     Genres      Last Updated  \\\n",
      "0      Free     0       Everyone               Art & Design   January 7, 2018   \n",
      "1      Free     0       Everyone  Art & Design;Pretend Play  January 15, 2018   \n",
      "2      Free     0       Everyone               Art & Design    August 1, 2018   \n",
      "3      Free     0           Teen               Art & Design      June 8, 2018   \n",
      "4      Free     0       Everyone    Art & Design;Creativity     June 20, 2018   \n",
      "...     ...   ...            ...                        ...               ...   \n",
      "10835  Free     0       Everyone                  Education     July 25, 2017   \n",
      "10836  Free     0       Everyone                  Education      July 6, 2018   \n",
      "10837  Free     0       Everyone                    Medical  January 20, 2017   \n",
      "10838  Free     0     Mature 17+          Books & Reference  January 19, 2015   \n",
      "10839  Free     0       Everyone                  Lifestyle     July 25, 2018   \n",
      "\n",
      "              Current Ver         Android Ver  \n",
      "0                   1.0.0        4.0.3 and up  \n",
      "1                   2.0.0        4.0.3 and up  \n",
      "2                1.2.2004        4.0.3 and up  \n",
      "3      Varies with device          4.2 and up  \n",
      "4                     1.1          4.4 and up  \n",
      "...                   ...                 ...  \n",
      "10835                1.48          4.1 and up  \n",
      "10836                 1.0          4.1 and up  \n",
      "10837                 1.0          2.2 and up  \n",
      "10838  Varies with device  Varies with device  \n",
      "10839  Varies with device  Varies with device  \n",
      "\n",
      "[10840 rows x 14 columns]\n"
     ]
    }
   ],
   "source": [
    "import pandas as pd\n",
    "\n",
    "df = pd.read_csv(r'C:\\Users\\User\\Desktop\\Data\\ML\\Tasks\\playstore - playstore.csv')\n",
    "print(df)"
   ]
  },
  {
   "cell_type": "code",
   "execution_count": 14,
   "id": "343cdbda-0da0-417f-af1e-ae986fa06ac9",
   "metadata": {},
   "outputs": [
    {
     "data": {
      "text/html": [
       "<div>\n",
       "<style scoped>\n",
       "    .dataframe tbody tr th:only-of-type {\n",
       "        vertical-align: middle;\n",
       "    }\n",
       "\n",
       "    .dataframe tbody tr th {\n",
       "        vertical-align: top;\n",
       "    }\n",
       "\n",
       "    .dataframe thead th {\n",
       "        text-align: right;\n",
       "    }\n",
       "</style>\n",
       "<table border=\"1\" class=\"dataframe\">\n",
       "  <thead>\n",
       "    <tr style=\"text-align: right;\">\n",
       "      <th></th>\n",
       "      <th>Unnamed: 0</th>\n",
       "      <th>App</th>\n",
       "      <th>Category</th>\n",
       "      <th>Rating</th>\n",
       "      <th>Reviews</th>\n",
       "      <th>Size</th>\n",
       "      <th>Installs</th>\n",
       "      <th>Type</th>\n",
       "      <th>Price</th>\n",
       "      <th>Content Rating</th>\n",
       "      <th>Genres</th>\n",
       "      <th>Last Updated</th>\n",
       "      <th>Current Ver</th>\n",
       "      <th>Android Ver</th>\n",
       "    </tr>\n",
       "  </thead>\n",
       "  <tbody>\n",
       "    <tr>\n",
       "      <th>0</th>\n",
       "      <td>0</td>\n",
       "      <td>Photo Editor &amp; Candy Camera &amp; Grid &amp; ScrapBook</td>\n",
       "      <td>ART_AND_DESIGN</td>\n",
       "      <td>4.1</td>\n",
       "      <td>159</td>\n",
       "      <td>19M</td>\n",
       "      <td>10,000+</td>\n",
       "      <td>Free</td>\n",
       "      <td>0</td>\n",
       "      <td>Everyone</td>\n",
       "      <td>Art &amp; Design</td>\n",
       "      <td>January 7, 2018</td>\n",
       "      <td>1.0.0</td>\n",
       "      <td>4.0.3 and up</td>\n",
       "    </tr>\n",
       "    <tr>\n",
       "      <th>1</th>\n",
       "      <td>1</td>\n",
       "      <td>Coloring book moana</td>\n",
       "      <td>ART_AND_DESIGN</td>\n",
       "      <td>3.9</td>\n",
       "      <td>967</td>\n",
       "      <td>14M</td>\n",
       "      <td>500,000+</td>\n",
       "      <td>Free</td>\n",
       "      <td>0</td>\n",
       "      <td>Everyone</td>\n",
       "      <td>Art &amp; Design;Pretend Play</td>\n",
       "      <td>January 15, 2018</td>\n",
       "      <td>2.0.0</td>\n",
       "      <td>4.0.3 and up</td>\n",
       "    </tr>\n",
       "    <tr>\n",
       "      <th>2</th>\n",
       "      <td>2</td>\n",
       "      <td>U Launcher Lite – FREE Live Cool Themes, Hide ...</td>\n",
       "      <td>ART_AND_DESIGN</td>\n",
       "      <td>4.7</td>\n",
       "      <td>87510</td>\n",
       "      <td>8.7M</td>\n",
       "      <td>5,000,000+</td>\n",
       "      <td>Free</td>\n",
       "      <td>0</td>\n",
       "      <td>Everyone</td>\n",
       "      <td>Art &amp; Design</td>\n",
       "      <td>August 1, 2018</td>\n",
       "      <td>1.2.2004</td>\n",
       "      <td>4.0.3 and up</td>\n",
       "    </tr>\n",
       "  </tbody>\n",
       "</table>\n",
       "</div>"
      ],
      "text/plain": [
       "   Unnamed: 0                                                App  \\\n",
       "0           0     Photo Editor & Candy Camera & Grid & ScrapBook   \n",
       "1           1                                Coloring book moana   \n",
       "2           2  U Launcher Lite – FREE Live Cool Themes, Hide ...   \n",
       "\n",
       "         Category  Rating  Reviews  Size    Installs  Type Price  \\\n",
       "0  ART_AND_DESIGN     4.1      159   19M     10,000+  Free     0   \n",
       "1  ART_AND_DESIGN     3.9      967   14M    500,000+  Free     0   \n",
       "2  ART_AND_DESIGN     4.7    87510  8.7M  5,000,000+  Free     0   \n",
       "\n",
       "  Content Rating                     Genres      Last Updated Current Ver  \\\n",
       "0       Everyone               Art & Design   January 7, 2018       1.0.0   \n",
       "1       Everyone  Art & Design;Pretend Play  January 15, 2018       2.0.0   \n",
       "2       Everyone               Art & Design    August 1, 2018    1.2.2004   \n",
       "\n",
       "    Android Ver  \n",
       "0  4.0.3 and up  \n",
       "1  4.0.3 and up  \n",
       "2  4.0.3 and up  "
      ]
     },
     "execution_count": 14,
     "metadata": {},
     "output_type": "execute_result"
    }
   ],
   "source": [
    "# Task 1: Save the first 3 rows of the DataFrame to the variable data_head and the last 3\n",
    "# rows to data_tail, respectively.\n",
    "\n",
    "#first 3 row\n",
    "df.head(3)"
   ]
  },
  {
   "cell_type": "code",
   "execution_count": 16,
   "id": "2d745ed1-6e31-43a5-aae8-0bf6c7b04015",
   "metadata": {},
   "outputs": [
    {
     "data": {
      "text/html": [
       "<div>\n",
       "<style scoped>\n",
       "    .dataframe tbody tr th:only-of-type {\n",
       "        vertical-align: middle;\n",
       "    }\n",
       "\n",
       "    .dataframe tbody tr th {\n",
       "        vertical-align: top;\n",
       "    }\n",
       "\n",
       "    .dataframe thead th {\n",
       "        text-align: right;\n",
       "    }\n",
       "</style>\n",
       "<table border=\"1\" class=\"dataframe\">\n",
       "  <thead>\n",
       "    <tr style=\"text-align: right;\">\n",
       "      <th></th>\n",
       "      <th>Unnamed: 0</th>\n",
       "      <th>App</th>\n",
       "      <th>Category</th>\n",
       "      <th>Rating</th>\n",
       "      <th>Reviews</th>\n",
       "      <th>Size</th>\n",
       "      <th>Installs</th>\n",
       "      <th>Type</th>\n",
       "      <th>Price</th>\n",
       "      <th>Content Rating</th>\n",
       "      <th>Genres</th>\n",
       "      <th>Last Updated</th>\n",
       "      <th>Current Ver</th>\n",
       "      <th>Android Ver</th>\n",
       "    </tr>\n",
       "  </thead>\n",
       "  <tbody>\n",
       "    <tr>\n",
       "      <th>10837</th>\n",
       "      <td>10837</td>\n",
       "      <td>Parkinson Exercices FR</td>\n",
       "      <td>MEDICAL</td>\n",
       "      <td>NaN</td>\n",
       "      <td>3</td>\n",
       "      <td>9.5M</td>\n",
       "      <td>1,000+</td>\n",
       "      <td>Free</td>\n",
       "      <td>0</td>\n",
       "      <td>Everyone</td>\n",
       "      <td>Medical</td>\n",
       "      <td>January 20, 2017</td>\n",
       "      <td>1.0</td>\n",
       "      <td>2.2 and up</td>\n",
       "    </tr>\n",
       "    <tr>\n",
       "      <th>10838</th>\n",
       "      <td>10838</td>\n",
       "      <td>The SCP Foundation DB fr nn5n</td>\n",
       "      <td>BOOKS_AND_REFERENCE</td>\n",
       "      <td>4.5</td>\n",
       "      <td>114</td>\n",
       "      <td>Varies with device</td>\n",
       "      <td>1,000+</td>\n",
       "      <td>Free</td>\n",
       "      <td>0</td>\n",
       "      <td>Mature 17+</td>\n",
       "      <td>Books &amp; Reference</td>\n",
       "      <td>January 19, 2015</td>\n",
       "      <td>Varies with device</td>\n",
       "      <td>Varies with device</td>\n",
       "    </tr>\n",
       "    <tr>\n",
       "      <th>10839</th>\n",
       "      <td>10839</td>\n",
       "      <td>iHoroscope - 2018 Daily Horoscope &amp; Astrology</td>\n",
       "      <td>LIFESTYLE</td>\n",
       "      <td>4.5</td>\n",
       "      <td>398307</td>\n",
       "      <td>19M</td>\n",
       "      <td>10,000,000+</td>\n",
       "      <td>Free</td>\n",
       "      <td>0</td>\n",
       "      <td>Everyone</td>\n",
       "      <td>Lifestyle</td>\n",
       "      <td>July 25, 2018</td>\n",
       "      <td>Varies with device</td>\n",
       "      <td>Varies with device</td>\n",
       "    </tr>\n",
       "  </tbody>\n",
       "</table>\n",
       "</div>"
      ],
      "text/plain": [
       "       Unnamed: 0                                            App  \\\n",
       "10837       10837                         Parkinson Exercices FR   \n",
       "10838       10838                  The SCP Foundation DB fr nn5n   \n",
       "10839       10839  iHoroscope - 2018 Daily Horoscope & Astrology   \n",
       "\n",
       "                  Category  Rating  Reviews                Size     Installs  \\\n",
       "10837              MEDICAL     NaN        3                9.5M       1,000+   \n",
       "10838  BOOKS_AND_REFERENCE     4.5      114  Varies with device       1,000+   \n",
       "10839            LIFESTYLE     4.5   398307                 19M  10,000,000+   \n",
       "\n",
       "       Type Price Content Rating             Genres      Last Updated  \\\n",
       "10837  Free     0       Everyone            Medical  January 20, 2017   \n",
       "10838  Free     0     Mature 17+  Books & Reference  January 19, 2015   \n",
       "10839  Free     0       Everyone          Lifestyle     July 25, 2018   \n",
       "\n",
       "              Current Ver         Android Ver  \n",
       "10837                 1.0          2.2 and up  \n",
       "10838  Varies with device  Varies with device  \n",
       "10839  Varies with device  Varies with device  "
      ]
     },
     "execution_count": 16,
     "metadata": {},
     "output_type": "execute_result"
    }
   ],
   "source": [
    "#last 3 rowss\n",
    "df.tail(3)"
   ]
  },
  {
   "cell_type": "code",
   "execution_count": 26,
   "id": "f87d745c-edd2-4a5a-aa69-ebf6de08d950",
   "metadata": {},
   "outputs": [
    {
     "name": "stdout",
     "output_type": "stream",
     "text": [
      "row = 10840 col = 14\n"
     ]
    }
   ],
   "source": [
    "# Task 2: Save the number of columns and rows in the DataFrame to the variables n_col and\n",
    "# n_row, respectively.\n",
    "\n",
    "df.shape\n",
    "n_row = df.shape[0]\n",
    "n_col = df.shape[1]\n",
    "\n",
    "print('row =',n_row,'col =',n_col)"
   ]
  },
  {
   "cell_type": "code",
   "execution_count": 34,
   "id": "dd10d373-f595-485b-8399-988f5bb3070b",
   "metadata": {},
   "outputs": [
    {
     "name": "stdout",
     "output_type": "stream",
     "text": [
      "                                                    App  Say\n",
      "0               Smoke Effect Photo Maker - Smoke Editor    1\n",
      "1       3D Color Pixel by Number - Sandbox Art Coloring    1\n",
      "2                                  Real Tractor Farming    1\n",
      "3                         Used Cars and Trucks for Sale    1\n",
      "4                              American Muscle Car Race    1\n",
      "...                                                 ...  ...\n",
      "9654                                               ESPN    7\n",
      "9655                                   Candy Crush Saga    7\n",
      "9656                                        8 Ball Pool    7\n",
      "9657  CBS Sports App - Scores, News, Stats & Watch Live    8\n",
      "9658                                             ROBLOX    9\n",
      "\n",
      "[9659 rows x 2 columns]\n"
     ]
    }
   ],
   "source": [
    "# Task 3: Now, let's see how many unique applications are in our data (the App column).\n",
    "\n",
    "import duckdb\n",
    "\n",
    "con = duckdb.connect()\n",
    "new_df = con.execute(\"\"\"\n",
    "    SELECT \n",
    "        App, COUNT(App) AS Say\n",
    "    FROM df\n",
    "    GROUP BY App\n",
    "    ORDER BY Say\n",
    "\"\"\").df()\n",
    "\n",
    "print(new_df)"
   ]
  },
  {
   "cell_type": "code",
   "execution_count": 36,
   "id": "913dd249-2fff-4be7-951c-e456355f6fce",
   "metadata": {},
   "outputs": [
    {
     "name": "stdout",
     "output_type": "stream",
     "text": [
      "    Say\n",
      "0  9659\n"
     ]
    }
   ],
   "source": [
    "import duckdb\n",
    "\n",
    "con = duckdb.connect()\n",
    "unique_app = con.execute(\"\"\"\n",
    "    SELECT \n",
    "        COUNT(DISTINCT App) AS Say\n",
    "    FROM df\n",
    "\"\"\").df()\n",
    "\n",
    "print(unique_app)"
   ]
  },
  {
   "cell_type": "code",
   "execution_count": 44,
   "id": "a2ca4b91-0302-432d-a9fd-cefc8c18db07",
   "metadata": {},
   "outputs": [
    {
     "name": "stdout",
     "output_type": "stream",
     "text": [
      "1474\n"
     ]
    }
   ],
   "source": [
    "# Task 4: Let's count the number of missing values in the application rating column. Save the\n",
    "# number of missing values in the Rating column to the variable rating_missing.\n",
    "\n",
    "rating_missing = df['Rating'].isnull().sum()\n",
    "print(rating_missing)"
   ]
  },
  {
   "cell_type": "code",
   "execution_count": null,
   "id": "da8f9240-225d-437a-a2db-52a6ddd0760f",
   "metadata": {},
   "outputs": [],
   "source": [
    "# Task 5: Let's learn how to combine DataFrames and get acquainted with the concat\n",
    "# function. Suppose we want to create a DataFrame that includes: the first three rows of the\n",
    "# original DataFrame, rows 6-8 (inclusive), rows 16-19 (inclusive), and the columns: App,\n",
    "# Size, Genres, Current Ver in that order. Essentially, this will look like combining three\n",
    "# smaller DataFrames, which are slices of the original data. As your answer, upload the\n",
    "# resulting DataFrame in CSV format. When saving the final DataFrame, the index column\n",
    "# should be kept.\n",
    "# NB! Remember zero-based indexing and the rules for including/excluding boundaries when\n",
    "# slicing."
   ]
  },
  {
   "cell_type": "code",
   "execution_count": 66,
   "id": "d8133626-72d1-4f8b-bce8-45d0a86e6b11",
   "metadata": {},
   "outputs": [
    {
     "name": "stdout",
     "output_type": "stream",
     "text": [
      "    Unnamed: 0                                                App  \\\n",
      "0            0     Photo Editor & Candy Camera & Grid & ScrapBook   \n",
      "1            1                                Coloring book moana   \n",
      "2            2  U Launcher Lite – FREE Live Cool Themes, Hide ...   \n",
      "6            6            Smoke Effect Photo Maker - Smoke Editor   \n",
      "7            7                                   Infinite Painter   \n",
      "8            8                               Garden Coloring Book   \n",
      "16          16       Photo Designer - Write your name with shapes   \n",
      "17          17                           350 Diy Room Decor Ideas   \n",
      "18          18                      FlipaClip - Cartoon animation   \n",
      "19          19                                       ibis Paint X   \n",
      "\n",
      "          Category  Rating  Reviews  Size     Installs  Type Price  \\\n",
      "0   ART_AND_DESIGN     4.1      159   19M      10,000+  Free     0   \n",
      "1   ART_AND_DESIGN     3.9      967   14M     500,000+  Free     0   \n",
      "2   ART_AND_DESIGN     4.7    87510  8.7M   5,000,000+  Free     0   \n",
      "6   ART_AND_DESIGN     3.8      178   19M      50,000+  Free     0   \n",
      "7   ART_AND_DESIGN     4.1    36815   29M   1,000,000+  Free     0   \n",
      "8   ART_AND_DESIGN     4.4    13791   33M   1,000,000+  Free     0   \n",
      "16  ART_AND_DESIGN     4.7     3632  5.5M     500,000+  Free     0   \n",
      "17  ART_AND_DESIGN     4.5       27   17M      10,000+  Free     0   \n",
      "18  ART_AND_DESIGN     4.3   194216   39M   5,000,000+  Free     0   \n",
      "19  ART_AND_DESIGN     4.6   224399   31M  10,000,000+  Free     0   \n",
      "\n",
      "   Content Rating                     Genres        Last Updated Current Ver  \\\n",
      "0        Everyone               Art & Design     January 7, 2018       1.0.0   \n",
      "1        Everyone  Art & Design;Pretend Play    January 15, 2018       2.0.0   \n",
      "2        Everyone               Art & Design      August 1, 2018    1.2.2004   \n",
      "6        Everyone               Art & Design      April 26, 2018         1.1   \n",
      "7        Everyone               Art & Design       June 14, 2018    6.1.61.1   \n",
      "8        Everyone               Art & Design  September 20, 2017    2.9.2002   \n",
      "16       Everyone               Art & Design       July 31, 2018         3.1   \n",
      "17       Everyone               Art & Design    November 7, 2017         1.0   \n",
      "18       Everyone               Art & Design      August 3, 2018    2.2.2005   \n",
      "19       Everyone               Art & Design       July 30, 2018    5.5.2004   \n",
      "\n",
      "     Android Ver  \n",
      "0   4.0.3 and up  \n",
      "1   4.0.3 and up  \n",
      "2   4.0.3 and up  \n",
      "6   4.0.3 and up  \n",
      "7     4.2 and up  \n",
      "8     3.0 and up  \n",
      "16    4.1 and up  \n",
      "17    2.3 and up  \n",
      "18  4.0.3 and up  \n",
      "19    4.1 and up  \n"
     ]
    }
   ],
   "source": [
    "df1 = df.head(3)\n",
    "df2 = df[6:9]\n",
    "df3 = df[16:20]\n",
    "\n",
    "final_df = pd.concat([df1,df2,df3])\n",
    "\n",
    "print(final_df)"
   ]
  },
  {
   "cell_type": "code",
   "execution_count": 68,
   "id": "f232f2d3-f171-43fb-a8b0-d3424554e74d",
   "metadata": {},
   "outputs": [
    {
     "name": "stdout",
     "output_type": "stream",
     "text": [
      "      Unnamed: 0                                                App  \\\n",
      "0              0     Photo Editor & Candy Camera & Grid & ScrapBook   \n",
      "1              1                                Coloring book moana   \n",
      "2              2  U Launcher Lite – FREE Live Cool Themes, Hide ...   \n",
      "3              3                              Sketch - Draw & Paint   \n",
      "4              4              Pixel Draw - Number Art Coloring Book   \n",
      "...          ...                                                ...   \n",
      "9654       10835                                   Sya9a Maroc - FR   \n",
      "9655       10836                   Fr. Mike Schmitz Audio Teachings   \n",
      "9656       10837                             Parkinson Exercices FR   \n",
      "9657       10838                      The SCP Foundation DB fr nn5n   \n",
      "9658       10839      iHoroscope - 2018 Daily Horoscope & Astrology   \n",
      "\n",
      "                 Category  Rating  Reviews                Size     Installs  \\\n",
      "0          ART_AND_DESIGN     4.1      159                 19M      10,000+   \n",
      "1          ART_AND_DESIGN     3.9      967                 14M     500,000+   \n",
      "2          ART_AND_DESIGN     4.7    87510                8.7M   5,000,000+   \n",
      "3          ART_AND_DESIGN     4.5   215644                 25M  50,000,000+   \n",
      "4          ART_AND_DESIGN     4.3      967                2.8M     100,000+   \n",
      "...                   ...     ...      ...                 ...          ...   \n",
      "9654               FAMILY     4.5       38                 53M       5,000+   \n",
      "9655               FAMILY     5.0        4                3.6M         100+   \n",
      "9656              MEDICAL     NaN        3                9.5M       1,000+   \n",
      "9657  BOOKS_AND_REFERENCE     4.5      114  Varies with device       1,000+   \n",
      "9658            LIFESTYLE     4.5   398307                 19M  10,000,000+   \n",
      "\n",
      "      Type Price Content Rating                     Genres      Last Updated  \\\n",
      "0     Free     0       Everyone               Art & Design   January 7, 2018   \n",
      "1     Free     0       Everyone  Art & Design;Pretend Play  January 15, 2018   \n",
      "2     Free     0       Everyone               Art & Design    August 1, 2018   \n",
      "3     Free     0           Teen               Art & Design      June 8, 2018   \n",
      "4     Free     0       Everyone    Art & Design;Creativity     June 20, 2018   \n",
      "...    ...   ...            ...                        ...               ...   \n",
      "9654  Free     0       Everyone                  Education     July 25, 2017   \n",
      "9655  Free     0       Everyone                  Education      July 6, 2018   \n",
      "9656  Free     0       Everyone                    Medical  January 20, 2017   \n",
      "9657  Free     0     Mature 17+          Books & Reference  January 19, 2015   \n",
      "9658  Free     0       Everyone                  Lifestyle     July 25, 2018   \n",
      "\n",
      "             Current Ver         Android Ver  \n",
      "0                  1.0.0        4.0.3 and up  \n",
      "1                  2.0.0        4.0.3 and up  \n",
      "2               1.2.2004        4.0.3 and up  \n",
      "3     Varies with device          4.2 and up  \n",
      "4                    1.1          4.4 and up  \n",
      "...                  ...                 ...  \n",
      "9654                1.48          4.1 and up  \n",
      "9655                 1.0          4.1 and up  \n",
      "9656                 1.0          2.2 and up  \n",
      "9657  Varies with device  Varies with device  \n",
      "9658  Varies with device  Varies with device  \n",
      "\n",
      "[9659 rows x 14 columns]\n"
     ]
    }
   ],
   "source": [
    "# Task 6: For further analysis, we need to remove duplicate applications (from the App\n",
    "# column) and reset the index. Save the result as a DataFrame in the variable\n",
    "# unique_playstore.\n",
    "\n",
    "unique_playstore = df.drop_duplicates(subset='App').reset_index(drop=True)\n",
    "print(unique_playstore)"
   ]
  },
  {
   "cell_type": "code",
   "execution_count": 72,
   "id": "c3cc9df0-9a8c-4624-bd8e-ec610d0eb410",
   "metadata": {},
   "outputs": [
    {
     "data": {
      "text/plain": [
       "Index(['unnamed:_0', 'app', 'category', 'rating', 'reviews', 'size',\n",
       "       'installs', 'type', 'price', 'content_rating', 'genres', 'last_updated',\n",
       "       'current_ver', 'android_ver'],\n",
       "      dtype='object')"
      ]
     },
     "execution_count": 72,
     "metadata": {},
     "output_type": "execute_result"
    }
   ],
   "source": [
    "# Task 7: In this task, the column names need to be brought to a standard format — all letters\n",
    "# should be lowercase, and spaces should be replaced with underscores. Methods that might\n",
    "# be useful:\n",
    "\n",
    "df.columns = df.columns.str.lower().str.replace(' ','_')\n",
    "df.columns"
   ]
  },
  {
   "cell_type": "code",
   "execution_count": 93,
   "id": "ae9703db-069e-4188-a181-e72a235bc9f4",
   "metadata": {},
   "outputs": [
    {
     "name": "stdout",
     "output_type": "stream",
     "text": [
      "0.92\n"
     ]
    }
   ],
   "source": [
    "# Task 8: Let's look at the proportion of paid and free applications. As your answer, provide\n",
    "# the proportion of free applications. Round the answer to two decimal places, using a period\n",
    "# as the decimal separator.\n",
    "\n",
    "unique_df = df.drop_duplicates(subset='app').reset_index(drop=True)\n",
    "free_count = unique_df[unique_df['type'] == 'Free'].shape[0]\n",
    "app_count = unique_df['app'].shape[0]\n",
    "proportion = round(free_count/app_count,2)\n",
    "print(proportion)"
   ]
  },
  {
   "cell_type": "code",
   "execution_count": null,
   "id": "3e35921a-a481-4f37-aa8f-074412d6a70d",
   "metadata": {},
   "outputs": [],
   "source": [
    "# Task 9: From the DataFrame, select only the applications that belong to the EDUCATION\n",
    "# category and have more than 1000 user reviews. Save the new DataFrame to the variable\n",
    "# education_playstore. The data has been cleaned of duplicates, and the column names\n",
    "# have been transformed according to the previous tasks and saved in the\n",
    "# playstoreDataFrame."
   ]
  },
  {
   "cell_type": "code",
   "execution_count": 99,
   "id": "3e1af0c3-5ebe-4c48-a622-e39137782a04",
   "metadata": {},
   "outputs": [
    {
     "name": "stdout",
     "output_type": "stream",
     "text": [
      "                                                   app\n",
      "0                       Duolingo: Learn Languages Free\n",
      "1                                                  TED\n",
      "2    English Communication - Learn English for Chin...\n",
      "3                                         Khan Academy\n",
      "4                           Learn English with Wlingua\n",
      "..                                                 ...\n",
      "130                  SoloLearn: Learn to Code for Free\n",
      "131                     Kids Learn Languages by Mondly\n",
      "132                        Blinkist - Nonfiction Books\n",
      "133                                    Toca Life: City\n",
      "134                                Toca Life: Hospital\n",
      "\n",
      "[135 rows x 1 columns]\n"
     ]
    }
   ],
   "source": [
    "import duckdb\n",
    "\n",
    "con = duckdb.connect()\n",
    "playstoreDataFrame = con.execute(\"\"\" SELECT app FROM df WHERE category = 'EDUCATION' AND reviews > 1000 \"\"\").df()\n",
    "\n",
    "print(playstoreDataFrame)"
   ]
  },
  {
   "cell_type": "code",
   "execution_count": 97,
   "id": "57171817-1f00-484c-9a79-0d4e15aec7e1",
   "metadata": {},
   "outputs": [],
   "source": [
    "df['reviews'] = pd.to_numeric(df['reviews'], errors='coerce').astype('Int64')"
   ]
  },
  {
   "cell_type": "code",
   "execution_count": 109,
   "id": "95db42a2-c123-406d-be69-02cbf1a14783",
   "metadata": {},
   "outputs": [
    {
     "data": {
      "text/plain": [
       "0        0\n",
       "1        0\n",
       "2        0\n",
       "3        0\n",
       "4        0\n",
       "        ..\n",
       "10835    0\n",
       "10836    0\n",
       "10837    0\n",
       "10838    0\n",
       "10839    0\n",
       "Name: price, Length: 10840, dtype: object"
      ]
     },
     "execution_count": 109,
     "metadata": {},
     "output_type": "execute_result"
    }
   ],
   "source": [
    "# Task 10: Let's remove the extra symbols from the price column (price) to make it easier to\n",
    "# work with, and convert the data to the float type.\n",
    "\n",
    "df['price']"
   ]
  },
  {
   "cell_type": "code",
   "execution_count": null,
   "id": "9c6acbba-92f8-4df5-b988-f8d4f5fb8fd8",
   "metadata": {},
   "outputs": [],
   "source": [
    "# # Task 11: For the final task, you need to create a pivot table from the data.\n",
    "\n",
    "# The columns must have the corresponding names, and the table values should be rounded\n",
    "# to the specified number of decimal places. As your answer, upload the resulting table in CSV\n",
    "# format (using a comma , as the separator).\n",
    "# NB! You will need to search online for \"Pandas pivot table\".\n",
    "# NB! The table should be created from the data with duplicates removed."
   ]
  },
  {
   "cell_type": "code",
   "execution_count": 111,
   "id": "2efc76cf-0c56-472b-98eb-6703eedffad1",
   "metadata": {},
   "outputs": [],
   "source": [
    "df_unique = df.drop_duplicates()"
   ]
  },
  {
   "cell_type": "code",
   "execution_count": 113,
   "id": "b3c9c829-0d23-43cf-8b4f-6bd1daaec618",
   "metadata": {},
   "outputs": [
    {
     "data": {
      "text/plain": [
       "0            10,000+\n",
       "1           500,000+\n",
       "2         5,000,000+\n",
       "3        50,000,000+\n",
       "4           100,000+\n",
       "            ...     \n",
       "10835         5,000+\n",
       "10836           100+\n",
       "10837         1,000+\n",
       "10838         1,000+\n",
       "10839    10,000,000+\n",
       "Name: installs, Length: 10840, dtype: object"
      ]
     },
     "execution_count": 113,
     "metadata": {},
     "output_type": "execute_result"
    }
   ],
   "source": [
    "# Task 12: The Installs and Size columns are not in a numeric format. Clean both\n",
    "# columns to make them usable for calculations. ??\n",
    "\n",
    "df['installs']"
   ]
  },
  {
   "cell_type": "code",
   "execution_count": null,
   "id": "f8c3238f-1b98-4bfa-a21e-def61e761d99",
   "metadata": {},
   "outputs": [],
   "source": [
    "# Task 13: The last_updated column contains date information. Let's use it to find out how\n",
    "# many apps were updated each year."
   ]
  },
  {
   "cell_type": "code",
   "execution_count": 129,
   "id": "a7e09653-2a6c-4cb0-a7f8-00f707b51eac",
   "metadata": {},
   "outputs": [],
   "source": [
    "df['last_updated'] = pd.to_datetime(df['last_updated'], errors='coerce').dt.year"
   ]
  },
  {
   "cell_type": "code",
   "execution_count": 131,
   "id": "066155dc-df82-416d-914d-ba599928720b",
   "metadata": {},
   "outputs": [
    {
     "data": {
      "text/plain": [
       "0        2018\n",
       "1        2018\n",
       "2        2018\n",
       "3        2018\n",
       "4        2018\n",
       "         ... \n",
       "10835    2017\n",
       "10836    2018\n",
       "10837    2017\n",
       "10838    2015\n",
       "10839    2018\n",
       "Name: last_updated, Length: 10840, dtype: int32"
      ]
     },
     "execution_count": 131,
     "metadata": {},
     "output_type": "execute_result"
    }
   ],
   "source": [
    "df['last_updated']"
   ]
  },
  {
   "cell_type": "code",
   "execution_count": 135,
   "id": "b05e9b54-ffee-4e0d-b924-4bc698be825c",
   "metadata": {},
   "outputs": [
    {
     "name": "stdout",
     "output_type": "stream",
     "text": [
      "   last_updated  app_count\n",
      "0          2012         26\n",
      "1          2018       7349\n",
      "2          2014        209\n",
      "3          2015        459\n",
      "4          2010          1\n",
      "5          2016        804\n",
      "6          2017       1867\n",
      "7          2011         15\n",
      "8          2013        110\n"
     ]
    }
   ],
   "source": [
    "import duckdb\n",
    "\n",
    "con = duckdb.connect()\n",
    "app_year = con.execute(\"\"\" SELECT last_updated, COUNT(app) AS app_count FROM df GROUP BY last_updated\"\"\").df()\n",
    "\n",
    "print(app_year)"
   ]
  },
  {
   "cell_type": "code",
   "execution_count": null,
   "id": "73115bf6-5802-4c22-af4d-b0389b4c9f15",
   "metadata": {},
   "outputs": [],
   "source": [
    "# Task 14: Let's find the top 5 most expensive app categories.\n"
   ]
  },
  {
   "cell_type": "code",
   "execution_count": null,
   "id": "26bc2b9a-944b-46cf-b898-6b4a3cba4233",
   "metadata": {},
   "outputs": [],
   "source": [
    "# Task 15: The genres column can contain multiple categories for a single app (e.g., \"Art &\n",
    "# Design;Creativity\"). This format is not ideal for analysis. Your task is to determine the most\n",
    "# common (top 10) individual genres. Sort them in the final table by their"
   ]
  },
  {
   "cell_type": "code",
   "execution_count": 139,
   "id": "5c8b865c-f380-4ebe-99f8-965812ab4912",
   "metadata": {},
   "outputs": [
    {
     "data": {
      "text/plain": [
       "0                     Art & Design\n",
       "1        Art & Design;Pretend Play\n",
       "2                     Art & Design\n",
       "3                     Art & Design\n",
       "4          Art & Design;Creativity\n",
       "                   ...            \n",
       "10835                    Education\n",
       "10836                    Education\n",
       "10837                      Medical\n",
       "10838            Books & Reference\n",
       "10839                    Lifestyle\n",
       "Name: genres, Length: 10840, dtype: object"
      ]
     },
     "execution_count": 139,
     "metadata": {},
     "output_type": "execute_result"
    }
   ],
   "source": [
    "df['genres']"
   ]
  },
  {
   "cell_type": "code",
   "execution_count": 145,
   "id": "fe4e68f1-96bd-443a-b062-867e45b6346c",
   "metadata": {},
   "outputs": [
    {
     "data": {
      "text/plain": [
       "0             Art & Design\n",
       "1             Art & Design\n",
       "1             Pretend Play\n",
       "2             Art & Design\n",
       "3             Art & Design\n",
       "               ...        \n",
       "10835            Education\n",
       "10836            Education\n",
       "10837              Medical\n",
       "10838    Books & Reference\n",
       "10839            Lifestyle\n",
       "Name: genres, Length: 11338, dtype: object"
      ]
     },
     "execution_count": 145,
     "metadata": {},
     "output_type": "execute_result"
    }
   ],
   "source": [
    "df['genres'].dropna().str.split(';').explode()"
   ]
  },
  {
   "cell_type": "code",
   "execution_count": 151,
   "id": "744ff6d0-5e72-4c04-8c60-cfe9cec0e28d",
   "metadata": {},
   "outputs": [
    {
     "data": {
      "text/plain": [
       "genres\n",
       "Tools              843\n",
       "Education          761\n",
       "Entertainment      667\n",
       "Medical            463\n",
       "Business           460\n",
       "Productivity       424\n",
       "Sports             402\n",
       "Personalization    392\n",
       "Communication      388\n",
       "Lifestyle          383\n",
       "Name: count, dtype: int64"
      ]
     },
     "execution_count": 151,
     "metadata": {},
     "output_type": "execute_result"
    }
   ],
   "source": [
    "all_genres.value_counts().head(10)"
   ]
  }
 ],
 "metadata": {
  "kernelspec": {
   "display_name": "Python 3 (ipykernel)",
   "language": "python",
   "name": "python3"
  },
  "language_info": {
   "codemirror_mode": {
    "name": "ipython",
    "version": 3
   },
   "file_extension": ".py",
   "mimetype": "text/x-python",
   "name": "python",
   "nbconvert_exporter": "python",
   "pygments_lexer": "ipython3",
   "version": "3.12.4"
  }
 },
 "nbformat": 4,
 "nbformat_minor": 5
}
